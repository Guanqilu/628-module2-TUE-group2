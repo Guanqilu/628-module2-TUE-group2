{
 "cells": [
  {
   "cell_type": "markdown",
   "metadata": {},
   "source": [
    "Part X: Dealing with data"
   ]
  },
  {
   "cell_type": "code",
   "execution_count": null,
   "metadata": {},
   "outputs": [],
   "source": [
    "install.packages(\"car\")\n",
    "install.packages(\"leaps\")\n",
    "install.packages(\"faraway\")\n",
    "install.packages(\"glmnet\")"
   ]
  },
  {
   "cell_type": "code",
   "execution_count": null,
   "metadata": {},
   "outputs": [],
   "source": [
    "install.packages(\"glmnet\")"
   ]
  },
  {
   "cell_type": "code",
   "execution_count": null,
   "metadata": {},
   "outputs": [],
   "source": [
    "library(car)\n",
    "library(leaps)\n",
    "library(faraway)\n",
    "library(glmnet)"
   ]
  },
  {
   "cell_type": "markdown",
   "metadata": {},
   "source": [
    "Read in the raw data and do data cleaning ( detect points which bodyfat does not have a linear relationship of 1 / density ):"
   ]
  },
  {
   "cell_type": "code",
   "execution_count": null,
   "metadata": {},
   "outputs": [],
   "source": [
    "data = read.csv(url(\"https://raw.githubusercontent.com/Guanqilu/628-module2-TUE-group2/master/BodyFat.csv\"))\n",
    "# data cleaning \n",
    "# detect points which bodyfat does not have a linear relationship of 1 / density\n",
    "plot(data$BODYFAT,data$DENSITY)\n",
    "B = 495*(1/data$DENSITY)-450\n",
    "plot(B-data$BODYFAT,xlab = 'observations', ylab = 'B-BODYFAT(%)', main = \"siri's equation\",type=\"p\",cex=0.7)\n",
    "text(1:length(data[,1]), B-data$BODYFAT, 1:length(data[,1]),cex=0.8)"
   ]
  },
  {
   "cell_type": "code",
   "execution_count": null,
   "metadata": {},
   "outputs": [],
   "source": []
  }
 ],
 "metadata": {
  "kernelspec": {
   "display_name": "R",
   "language": "R",
   "name": "ir"
  },
  "language_info": {
   "codemirror_mode": "r",
   "file_extension": ".r",
   "mimetype": "text/x-r-source",
   "name": "R",
   "pygments_lexer": "r",
   "version": "3.6.1"
  }
 },
 "nbformat": 4,
 "nbformat_minor": 2
}
