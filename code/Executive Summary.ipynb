{
 "cells": [
  {
   "cell_type": "markdown",
   "metadata": {},
   "source": [
    "# Introduction "
   ]
  },
  {
   "cell_type": "markdown",
   "metadata": {},
   "source": [
    "Body fat percentage is total mass of fat divided by total body mass. It is an important evaluation of a person's health level, too high or too low might cause diseases. There already some body fat calculators online. However, they usually require too many variables while some of them cannot be obtained easily. In this project, we try to construct a simple, accurate and robust model to predict body fat percentage which obeys the 'Rule of Thumb'."
   ]
  },
  {
   "cell_type": "markdown",
   "metadata": {},
   "source": [
    "The dataset we use contains 252 male observations and 15 useful variables, including \"Bodyfat\" as response and some others as predictors."
   ]
  },
  {
   "cell_type": "code",
   "execution_count": 1,
   "metadata": {},
   "outputs": [
    {
     "name": "stderr",
     "output_type": "stream",
     "text": [
      "Loading required package: carData\n",
      "Registered S3 methods overwritten by 'lme4':\n",
      "  method                          from\n",
      "  cooks.distance.influence.merMod car \n",
      "  influence.merMod                car \n",
      "  dfbeta.influence.merMod         car \n",
      "  dfbetas.influence.merMod        car \n",
      "\n",
      "Attaching package: 'faraway'\n",
      "\n",
      "The following objects are masked from 'package:car':\n",
      "\n",
      "    logit, vif\n",
      "\n",
      "Loading required package: Matrix\n",
      "Loading required package: foreach\n",
      "Loaded glmnet 2.0-18\n",
      "\n"
     ]
    }
   ],
   "source": [
    "library(car)\n",
    "library(leaps)\n",
    "library(faraway)\n",
    "library(glmnet)\n",
    "library(ggplot2)\n",
    "library(grid)\n",
    "setwd(\"C:/Users/Mark Wei/Desktop/628/Project 2\")"
   ]
  },
  {
   "cell_type": "markdown",
   "metadata": {},
   "source": [
    "# Modeling"
   ]
  },
  {
   "cell_type": "markdown",
   "metadata": {},
   "source": [
    "## Data cleaning"
   ]
  },
  {
   "cell_type": "markdown",
   "metadata": {},
   "source": [
    "First, we read the raw data and clean it (detect and delete abnormal observations). There are two criteria to extract abnormal observations: First is to delete those with abnormal feature values, such as a very short observation; Second is to delete those with wrong relationship among some related values. For second criteria there are two formulas, we have to check whether the points obey both of them: \n",
    "$$ BODYFAT \\propto \\frac{1}{DENSITY} \\quad ; \\quad ADIPOSITY \\propto \\frac{WEIGHT}{{HEIGHT}^2}$$"
   ]
  },
  {
   "cell_type": "code",
   "execution_count": 2,
   "metadata": {
    "scrolled": true
   },
   "outputs": [],
   "source": [
    "DATA = read.csv(\"BodyFat.csv\", row.names = 1)\n",
    "data = DATA\n",
    "data$IDNO = 1:length(data$BODYFAT)\n",
    "# boxplot(data,main=\"boxplot of rawdata\",cex.axis=0.4)      \n",
    "\n",
    "# data cleaning \n",
    "# detect points which bodyfat does not have a linear relationship of 1 / density\n",
    "#########?????????????????????????????????#########\n",
    "# plot(data$BODYFAT,data$DENSITY,xlab=\"bodyfat\",ylab=\"density\")\n",
    "# text(1:length(data[,1]), data$BODYFAT, 1:length(data[,1]),cex=0.5)\n",
    "\n",
    "##########siri##########\n",
    "####182,48,76,96#######\n",
    "data$Bodyfat = 495*(1/data$DENSITY)-450\n",
    "data$sirilabel = ifelse(abs(data$Bodyfat-data$BODYFAT)>sort(abs(data$Bodyfat-data$BODYFAT),decreasing = T)[5],data$IDNO,\"\")\n",
    "plot.siri = ggplot(data = data, aes(x =IDNO,y = Bodyfat-BODYFAT, colour = factor(sirilabel)))+ geom_point()+geom_text(data = data,aes(x = IDNO,y = Bodyfat-BODYFAT,label = sirilabel))\n",
    "\n",
    "##########BMI##########\n",
    "####163???221???42#####\n",
    "data$BMI=703*(data$WEIGHT/(data$HEIGHT)^2)\n",
    "data$bmilabel = ifelse(abs(data$BMI-data$ADIPOSITY)>sort(abs(data$BMI-data$ADIPOSITY),decreasing = T)[4],data$IDNO,\"\")\n",
    "plot.bmi = ggplot(data = data, aes(x =IDNO,y = BMI-ADIPOSITY, colour = factor(bmilabel)))+ geom_point()+geom_text(data = data,aes(x = IDNO,y = BMI-ADIPOSITY,label = bmilabel))\n",
    "\n",
    "#we should get rid of the density \n",
    "DATA_new = DATA[, -2]\n",
    "DATA_new = DATA_new[-c(42, 48, 76, 96, 163, 182, 221),]\n",
    "\n",
    "########## Before removing the data points with large cook's distance##########\n",
    "model0 = lm(BODYFAT ~ .,data = DATA[,-2])\n",
    "data$cook = cooks.distance(model0)\n",
    "data$cooklabel = ifelse(data$cook>0.02,data$IDNO,\"\")\n",
    "plot.cook = ggplot(data = data, aes(x = IDNO, y = cook, colour = factor(cooklabel)))+ geom_point()+geom_text(data = data,aes(x = IDNO,y = cook,label = cooklabel))"
   ]
  },
  {
   "cell_type": "code",
   "execution_count": 3,
   "metadata": {},
   "outputs": [
    {
     "data": {
      "text/html": [
       "<table>\n",
       "<thead><tr><th></th><th scope=col>BODYFAT</th><th scope=col>DENSITY</th><th scope=col>AGE</th><th scope=col>WEIGHT</th><th scope=col>HEIGHT</th><th scope=col>ADIPOSITY</th><th scope=col>NECK</th><th scope=col>CHEST</th><th scope=col>ABDOMEN</th><th scope=col>HIP</th><th scope=col>...</th><th scope=col>BICEPS</th><th scope=col>FOREARM</th><th scope=col>WRIST</th><th scope=col>IDNO</th><th scope=col>Bodyfat</th><th scope=col>sirilabel</th><th scope=col>BMI</th><th scope=col>bmilabel</th><th scope=col>cook</th><th scope=col>cooklabel</th></tr></thead>\n",
       "<tbody>\n",
       "\t<tr><th scope=row>39</th><td>33.8        </td><td>1.0202      </td><td>46          </td><td>363.15      </td><td>72.25       </td><td>48.9        </td><td>51.2        </td><td>136.2       </td><td>148.1       </td><td>147.7       </td><td>...         </td><td>45.0        </td><td>29.0        </td><td>21.4        </td><td> 39         </td><td>35.1989806  </td><td>            </td><td> 48.90640   </td><td>            </td><td>0.4063449838</td><td>39          </td></tr>\n",
       "\t<tr><th scope=row>42</th><td>31.7        </td><td>1.0250      </td><td>44          </td><td>205.00      </td><td>29.50       </td><td>29.9        </td><td>36.6        </td><td>106.0       </td><td>104.3       </td><td>115.5       </td><td>...         </td><td>33.6        </td><td>28.7        </td><td>17.4        </td><td> 42         </td><td>32.9268293  </td><td>            </td><td>165.60184   </td><td>42          </td><td>1.9101411352</td><td>42          </td></tr>\n",
       "\t<tr><th scope=row>48</th><td> 6.4        </td><td>1.0665      </td><td>39          </td><td>148.50      </td><td>71.25       </td><td>20.6        </td><td>34.6        </td><td> 89.8       </td><td> 79.5       </td><td> 92.7       </td><td>...         </td><td>28.8        </td><td>26.8        </td><td>17.9        </td><td> 48         </td><td>14.1350211  </td><td>48          </td><td> 20.56421   </td><td>            </td><td>0.0016106446</td><td>            </td></tr>\n",
       "\t<tr><th scope=row>76</th><td>18.3        </td><td>1.0666      </td><td>61          </td><td>148.25      </td><td>67.50       </td><td>22.9        </td><td>36.0        </td><td> 91.6       </td><td> 81.8       </td><td> 94.8       </td><td>...         </td><td>29.3        </td><td>27.0        </td><td>18.3        </td><td> 76         </td><td>14.0915057  </td><td>76          </td><td> 22.87402   </td><td>            </td><td>0.0054526107</td><td>            </td></tr>\n",
       "\t<tr><th scope=row>96</th><td>17.3        </td><td>1.0991      </td><td>53          </td><td>224.50      </td><td>77.75       </td><td>26.1        </td><td>41.1        </td><td>113.2       </td><td> 99.2       </td><td>107.5       </td><td>...         </td><td>32.9        </td><td>30.8        </td><td>20.4        </td><td> 96         </td><td> 0.3684833  </td><td>96          </td><td> 26.10784   </td><td>            </td><td>0.0005903079</td><td>            </td></tr>\n",
       "\t<tr><th scope=row>163</th><td>13.3        </td><td>1.0690      </td><td>33          </td><td>184.25      </td><td>68.75       </td><td>24.4        </td><td>40.7        </td><td> 98.9       </td><td> 92.1       </td><td>103.5       </td><td>...         </td><td>33.5        </td><td>30.6        </td><td>19.7        </td><td>163         </td><td>13.0495790  </td><td>            </td><td> 27.40422   </td><td>163         </td><td>0.0025811189</td><td>            </td></tr>\n",
       "\t<tr><th scope=row>182</th><td> 0.0        </td><td>1.1089      </td><td>40          </td><td>118.50      </td><td>68.00       </td><td>18.1        </td><td>33.8        </td><td> 79.3       </td><td> 69.4       </td><td> 85.0       </td><td>...         </td><td>27.7        </td><td>24.6        </td><td>16.5        </td><td>182         </td><td>-3.6116873  </td><td>182         </td><td> 18.01590   </td><td>            </td><td>0.0077665106</td><td>            </td></tr>\n",
       "\t<tr><th scope=row>221</th><td>12.7        </td><td>1.0706      </td><td>54          </td><td>153.25      </td><td>70.50       </td><td>24.5        </td><td>38.5        </td><td> 99.0       </td><td> 91.8       </td><td> 96.2       </td><td>...         </td><td>31.4        </td><td>29.9        </td><td>18.9        </td><td>221         </td><td>12.3575565  </td><td>            </td><td> 21.67592   </td><td>221         </td><td>0.0225311932</td><td>221         </td></tr>\n",
       "</tbody>\n",
       "</table>\n"
      ],
      "text/latex": [
       "\\begin{tabular}{r|lllllllllllllllllllllll}\n",
       "  & BODYFAT & DENSITY & AGE & WEIGHT & HEIGHT & ADIPOSITY & NECK & CHEST & ABDOMEN & HIP & ... & BICEPS & FOREARM & WRIST & IDNO & Bodyfat & sirilabel & BMI & bmilabel & cook & cooklabel\\\\\n",
       "\\hline\n",
       "\t39 & 33.8         & 1.0202       & 46           & 363.15       & 72.25        & 48.9         & 51.2         & 136.2        & 148.1        & 147.7        & ...          & 45.0         & 29.0         & 21.4         &  39          & 35.1989806   &              &  48.90640    &              & 0.4063449838 & 39          \\\\\n",
       "\t42 & 31.7         & 1.0250       & 44           & 205.00       & 29.50        & 29.9         & 36.6         & 106.0        & 104.3        & 115.5        & ...          & 33.6         & 28.7         & 17.4         &  42          & 32.9268293   &              & 165.60184    & 42           & 1.9101411352 & 42          \\\\\n",
       "\t48 &  6.4         & 1.0665       & 39           & 148.50       & 71.25        & 20.6         & 34.6         &  89.8        &  79.5        &  92.7        & ...          & 28.8         & 26.8         & 17.9         &  48          & 14.1350211   & 48           &  20.56421    &              & 0.0016106446 &             \\\\\n",
       "\t76 & 18.3         & 1.0666       & 61           & 148.25       & 67.50        & 22.9         & 36.0         &  91.6        &  81.8        &  94.8        & ...          & 29.3         & 27.0         & 18.3         &  76          & 14.0915057   & 76           &  22.87402    &              & 0.0054526107 &             \\\\\n",
       "\t96 & 17.3         & 1.0991       & 53           & 224.50       & 77.75        & 26.1         & 41.1         & 113.2        &  99.2        & 107.5        & ...          & 32.9         & 30.8         & 20.4         &  96          &  0.3684833   & 96           &  26.10784    &              & 0.0005903079 &             \\\\\n",
       "\t163 & 13.3         & 1.0690       & 33           & 184.25       & 68.75        & 24.4         & 40.7         &  98.9        &  92.1        & 103.5        & ...          & 33.5         & 30.6         & 19.7         & 163          & 13.0495790   &              &  27.40422    & 163          & 0.0025811189 &             \\\\\n",
       "\t182 &  0.0         & 1.1089       & 40           & 118.50       & 68.00        & 18.1         & 33.8         &  79.3        &  69.4        &  85.0        & ...          & 27.7         & 24.6         & 16.5         & 182          & -3.6116873   & 182          &  18.01590    &              & 0.0077665106 &             \\\\\n",
       "\t221 & 12.7         & 1.0706       & 54           & 153.25       & 70.50        & 24.5         & 38.5         &  99.0        &  91.8        &  96.2        & ...          & 31.4         & 29.9         & 18.9         & 221          & 12.3575565   &              &  21.67592    & 221          & 0.0225311932 & 221         \\\\\n",
       "\\end{tabular}\n"
      ],
      "text/markdown": [
       "\n",
       "| <!--/--> | BODYFAT | DENSITY | AGE | WEIGHT | HEIGHT | ADIPOSITY | NECK | CHEST | ABDOMEN | HIP | ... | BICEPS | FOREARM | WRIST | IDNO | Bodyfat | sirilabel | BMI | bmilabel | cook | cooklabel |\n",
       "|---|---|---|---|---|---|---|---|---|---|---|---|---|---|---|---|---|---|---|---|---|---|\n",
       "| 39 | 33.8         | 1.0202       | 46           | 363.15       | 72.25        | 48.9         | 51.2         | 136.2        | 148.1        | 147.7        | ...          | 45.0         | 29.0         | 21.4         |  39          | 35.1989806   |              |  48.90640    |              | 0.4063449838 | 39           |\n",
       "| 42 | 31.7         | 1.0250       | 44           | 205.00       | 29.50        | 29.9         | 36.6         | 106.0        | 104.3        | 115.5        | ...          | 33.6         | 28.7         | 17.4         |  42          | 32.9268293   |              | 165.60184    | 42           | 1.9101411352 | 42           |\n",
       "| 48 |  6.4         | 1.0665       | 39           | 148.50       | 71.25        | 20.6         | 34.6         |  89.8        |  79.5        |  92.7        | ...          | 28.8         | 26.8         | 17.9         |  48          | 14.1350211   | 48           |  20.56421    |              | 0.0016106446 |              |\n",
       "| 76 | 18.3         | 1.0666       | 61           | 148.25       | 67.50        | 22.9         | 36.0         |  91.6        |  81.8        |  94.8        | ...          | 29.3         | 27.0         | 18.3         |  76          | 14.0915057   | 76           |  22.87402    |              | 0.0054526107 |              |\n",
       "| 96 | 17.3         | 1.0991       | 53           | 224.50       | 77.75        | 26.1         | 41.1         | 113.2        |  99.2        | 107.5        | ...          | 32.9         | 30.8         | 20.4         |  96          |  0.3684833   | 96           |  26.10784    |              | 0.0005903079 |              |\n",
       "| 163 | 13.3         | 1.0690       | 33           | 184.25       | 68.75        | 24.4         | 40.7         |  98.9        |  92.1        | 103.5        | ...          | 33.5         | 30.6         | 19.7         | 163          | 13.0495790   |              |  27.40422    | 163          | 0.0025811189 |              |\n",
       "| 182 |  0.0         | 1.1089       | 40           | 118.50       | 68.00        | 18.1         | 33.8         |  79.3        |  69.4        |  85.0        | ...          | 27.7         | 24.6         | 16.5         | 182          | -3.6116873   | 182          |  18.01590    |              | 0.0077665106 |              |\n",
       "| 221 | 12.7         | 1.0706       | 54           | 153.25       | 70.50        | 24.5         | 38.5         |  99.0        |  91.8        |  96.2        | ...          | 31.4         | 29.9         | 18.9         | 221          | 12.3575565   |              |  21.67592    | 221          | 0.0225311932 | 221          |\n",
       "\n"
      ],
      "text/plain": [
       "    BODYFAT DENSITY AGE WEIGHT HEIGHT ADIPOSITY NECK CHEST ABDOMEN HIP   ...\n",
       "39  33.8    1.0202  46  363.15 72.25  48.9      51.2 136.2 148.1   147.7 ...\n",
       "42  31.7    1.0250  44  205.00 29.50  29.9      36.6 106.0 104.3   115.5 ...\n",
       "48   6.4    1.0665  39  148.50 71.25  20.6      34.6  89.8  79.5    92.7 ...\n",
       "76  18.3    1.0666  61  148.25 67.50  22.9      36.0  91.6  81.8    94.8 ...\n",
       "96  17.3    1.0991  53  224.50 77.75  26.1      41.1 113.2  99.2   107.5 ...\n",
       "163 13.3    1.0690  33  184.25 68.75  24.4      40.7  98.9  92.1   103.5 ...\n",
       "182  0.0    1.1089  40  118.50 68.00  18.1      33.8  79.3  69.4    85.0 ...\n",
       "221 12.7    1.0706  54  153.25 70.50  24.5      38.5  99.0  91.8    96.2 ...\n",
       "    BICEPS FOREARM WRIST IDNO Bodyfat    sirilabel BMI       bmilabel\n",
       "39  45.0   29.0    21.4   39  35.1989806            48.90640         \n",
       "42  33.6   28.7    17.4   42  32.9268293           165.60184 42      \n",
       "48  28.8   26.8    17.9   48  14.1350211 48         20.56421         \n",
       "76  29.3   27.0    18.3   76  14.0915057 76         22.87402         \n",
       "96  32.9   30.8    20.4   96   0.3684833 96         26.10784         \n",
       "163 33.5   30.6    19.7  163  13.0495790            27.40422 163     \n",
       "182 27.7   24.6    16.5  182  -3.6116873 182        18.01590         \n",
       "221 31.4   29.9    18.9  221  12.3575565            21.67592 221     \n",
       "    cook         cooklabel\n",
       "39  0.4063449838 39       \n",
       "42  1.9101411352 42       \n",
       "48  0.0016106446          \n",
       "76  0.0054526107          \n",
       "96  0.0005903079          \n",
       "163 0.0025811189          \n",
       "182 0.0077665106          \n",
       "221 0.0225311932 221      "
      ]
     },
     "metadata": {},
     "output_type": "display_data"
    }
   ],
   "source": [
    "# Check the cook's distance one by one\n",
    "#########cook###################     \n",
    "k = 14 ###### number of variables\n",
    "n = length(DATA$BODYFAT)\n",
    "index = 1:n\n",
    "index = index[-c(39,182,48,76,96,163,221,42)]\n",
    "while(TRUE){\n",
    "  a = qf(0.5,k,n-k)\n",
    "  model1<- lm(BODYFAT ~ ., data = DATA_new)\n",
    "  cook = cooks.distance(model1)\n",
    "  if(sum(cook>0.5)>0){\n",
    "    DATA_new = DATA_new[-which.max(cook),]\n",
    "    index = index[-which.max(cook)]\n",
    "    n = n-1\n",
    "  }else{break}\n",
    "}\n",
    "out = setdiff(1:length(data$BODYFAT),index)\n",
    "######cook.distance > F_0.5(k,n-k)####### \n",
    "\n",
    "# plot(model1, which = 4)\n",
    "# deleted the possible outliers 39\n",
    "data[out,]"
   ]
  },
  {
   "cell_type": "markdown",
   "metadata": {},
   "source": [
    "No.39 has too large weight (it is also a possible outlier); No.42 is way too short; No.48, 76, 96, 182 does not match the relationship between bodyfat and density; No.182 also has bodyfat 0, it is a mistake. No.42, 163, 221 don't obey the BMI equation.\n",
    "We remove them and scale the data to get a new dataset. Then check the Cook's distance again."
   ]
  },
  {
   "cell_type": "code",
   "execution_count": 4,
   "metadata": {},
   "outputs": [
    {
     "data": {
      "text/plain": [
       "No Studentized residuals with Bonferroni p < 0.05\n",
       "Largest |rstudent|:\n",
       "     rstudent unadjusted p-value Bonferroni p\n",
       "224 -2.555635            0.01125           NA"
      ]
     },
     "metadata": {},
     "output_type": "display_data"
    }
   ],
   "source": [
    "data_clean = DATA_new[-39, ]#remove some potential outliers\n",
    "data_clean = data.frame(scale(data_clean))#scale the data\n",
    "write.csv(data_clean,\"bodyfat_clean.csv\",row.names = F)\n",
    "#check the cook's distance again\n",
    "model = lm(BODYFAT ~ ., data = data_clean)\n",
    "#plot(model, which = 4)\n",
    "\n",
    "#outlier test\n",
    "outlierTest(model)"
   ]
  },
  {
   "cell_type": "code",
   "execution_count": 5,
   "metadata": {},
   "outputs": [],
   "source": [
    "ndata = data[-c(out),]\n",
    "model10 = lm(BODYFAT ~ .,data = DATA[-c(out),-2])\n",
    "ndata$cook = cooks.distance(model10)\n",
    "ndata$cooklabel = ifelse(ndata$cook>0.02,data$IDNO,\"\")\n",
    "plot.cook.new = ggplot(data = ndata, aes(x = IDNO, y = cook, colour = factor(cooklabel)))+ geom_point()+geom_text(data = ndata,aes(x = IDNO,y = cook,label = cooklabel))"
   ]
  },
  {
   "cell_type": "code",
   "execution_count": 6,
   "metadata": {},
   "outputs": [
    {
     "data": {
      "image/png": "[encoded data removed]",
      "text/plain": [
       "plot without title"
      ]
     },
     "metadata": {},
     "output_type": "display_data"
    }
   ],
   "source": [
    "grid.newpage()\n",
    "pushViewport(viewport(layout = grid.layout(2,2)))\n",
    "\n",
    "print(plot.siri, vp = viewport(layout.pos.row = 1, layout.pos.col = 1))\n",
    "print(plot.bmi,  vp = viewport(layout.pos.row = 1, layout.pos.col = 2))\n",
    "print(plot.cook, vp = viewport(layout.pos.row = 2, layout.pos.col = 1))\n",
    "print(plot.cook.new, vp = viewport(layout.pos.row = 2, layout.pos.col = 2))"
   ]
  },
  {
   "cell_type": "markdown",
   "metadata": {},
   "source": [
    "## Model Selection"
   ]
  },
  {
   "cell_type": "code",
   "execution_count": 7,
   "metadata": {
    "collapsed": true
   },
   "outputs": [],
   "source": [
    "full = lm(BODYFAT ~ ., data = data_clean)\n",
    "base = lm(BODYFAT ~ 1, data = data_clean)"
   ]
  },
  {
   "cell_type": "markdown",
   "metadata": {},
   "source": [
    "### Comparison of different models"
   ]
  },
  {
   "cell_type": "markdown",
   "metadata": {},
   "source": [
    "# AIC \n",
    "# backward\n",
    "model_AIC_b = step(full, direction = \"backward\", trace = 0)\n",
    "print(model_AIC_b)\n",
    "summary(model_AIC_b)\n",
    "\n",
    "# forward\n",
    "model_AIC_f = step(base, direction = \"forward\", trace = 0,scope = list(lower = base, upper = full))\n",
    "print(model_AIC_f)\n",
    "# both sides\n",
    "model_AIC_t = step(base, direction = \"both\", trace = 0, scope = list(lower = base, upper = full))\n",
    "print(model_AIC_t)"
   ]
  },
  {
   "cell_type": "markdown",
   "metadata": {},
   "source": [
    "# BIC\n",
    "# backward\n",
    "n = dim(data)[1]\n",
    "model_BIC_b = step(full, direction = \"backward\", trace = 0, k = log(n))\n",
    "print(model_BIC_b)\n",
    "summary(model_BIC_b)\n",
    "# forward\n",
    "model_BIC_f = step(base, direction = \"forward\", trace = 0, scope = list(lower = base, upper = full), k = log(n))\n",
    "print(model_BIC_f )\n",
    "\n",
    "# both sides\n",
    "model_BIC_t = step(full, direction = \"both\", trace = 0, k = log(n))\n",
    "print(model_BIC_t)\n",
    "summary(model_BIC_t)\n"
   ]
  },
  {
   "cell_type": "markdown",
   "metadata": {},
   "source": [
    "# mallow's cp\n",
    "X = data_clean[, -1]\n",
    "Y = data_clean$BODYFAT\n",
    "g = leaps(X, Y, nbest = 1)\n",
    "Cpplot(g)\n",
    "print(colnames(data_clean)[c(1, 3, 6, 7, 12, 14) + 1])\n",
    "cp_model = BODYFAT ~ AGE + HEIGHT + CHEST + ABDOMEN +  BICEPS + WRIST\n",
    "cp_lm = lm(cp_model, data=data_clean)\n",
    "summary(cp_lm)"
   ]
  },
  {
   "cell_type": "markdown",
   "metadata": {
    "collapsed": true
   },
   "source": [
    "# adjusted R square\n",
    "g_ad = leaps(X, Y, nbest = 1,method=\"adjr2\")\n",
    "plot(g_ad$adjr2)\n",
    "(g_ad$which)[which(g_ad$adjr2==max(g_ad$adjr2)),]\n",
    "Ad_r=BODYFAT~AGE+ADIPOSITY+NECK+CHEST+ABDOMEN+HIP+BICEPS+FOREARM+WRIST\n",
    "adr_model<-lm(Ad_r,data=data_clean)\n",
    "summary(adr_model)"
   ]
  },
  {
   "cell_type": "markdown",
   "metadata": {},
   "source": [
    "# lasso\n",
    "model_l <- glmnet(as.matrix(data_clean[,2:15]), data_clean$BODYFAT, family = \"gaussian\", nlambda = 50, alpha = 1,standardize = T)\n",
    "print(model_l)\n",
    "plot(model_l, xvar = \"lambda\", label = T)\n",
    "cvfit <- cv.glmnet(as.matrix(data_clean[,2:15]), data_clean$BODYFAT, family = \"gaussian\", type.measure = \"mse\", nfolds = 10,alpha = 1)\n",
    "plot(cvfit)\n",
    "print(coef(cvfit, s = \"lambda.1se\" ))\n",
    "model_lasso<- BODYFAT ~ AGE + HEIGHT  + ABDOMEN +  WRIST\n",
    "model_l<-lm(BODYFAT ~ AGE + HEIGHT  + ABDOMEN +  WRIST,data=data_clean)\n"
   ]
  },
  {
   "cell_type": "markdown",
   "metadata": {},
   "source": [
    "### Additional analysis"
   ]
  },
  {
   "cell_type": "markdown",
   "metadata": {},
   "source": [
    "According to the result of these models, we find that \"ABDOMEN\" is the most important predictor, followed by \"WRIST\" and \"WEIGHT\". Because of our \"Rule of thumb\" criteria, we decide to choose one of \"WRIST\" and \"WEIGHT\", then take it along with \"ABDOMEN\" as our two predictors. Suppose we set \"Model 1\" using ABDOMEN and WEIGHT to predict BODYFAT, and \"Model 2\" using ABDOMEN and WRIST to predict BODYFAT."
   ]
  },
  {
   "cell_type": "markdown",
   "metadata": {},
   "source": [
    "First we check multicolinearity by correlation and VIF test"
   ]
  },
  {
   "cell_type": "markdown",
   "metadata": {},
   "source": [
    "#check the possible multicolinearity betweeen abdomen and wrist,weight\n",
    "cor(data_clean$WRIST,data_clean$ABDOMEN)\n",
    "cor(data_clean$WEIGHT,data_clean$ABDOMEN)\n",
    "cor(data_clean$WRIST,data_clean$WEIGHT)\n",
    "vif(model_BIC_f)\n",
    "vif(lm(BODYFAT ~ ABDOMEN + WEIGHT, data = data_clean))\n",
    "vif(lm(BODYFAT ~ ABDOMEN + WRIST, data = data_clean))"
   ]
  },
  {
   "cell_type": "markdown",
   "metadata": {},
   "source": [
    "By VIF test, we suppose the predictors in \"Model 1\" are more correlated than \"Model 2\". Also, we can see the value of R-square are similar between two models. If we only use ABDOMEN to predict, the R-square indicates that's not reliable. So in order to reduce multicolinearity, we choose \"Model 2\" (ABDOMEN and WRIST) as our final model. "
   ]
  },
  {
   "cell_type": "code",
   "execution_count": 9,
   "metadata": {},
   "outputs": [
    {
     "data": {
      "text/html": [
       "<ol class=list-inline>\n",
       "\t<li>0.715</li>\n",
       "\t<li>0.724</li>\n",
       "\t<li>0.678</li>\n",
       "</ol>\n"
      ],
      "text/latex": [
       "\\begin{enumerate*}\n",
       "\\item 0.715\n",
       "\\item 0.724\n",
       "\\item 0.678\n",
       "\\end{enumerate*}\n"
      ],
      "text/markdown": [
       "1. 0.715\n",
       "2. 0.724\n",
       "3. 0.678\n",
       "\n",
       "\n"
      ],
      "text/plain": [
       "[1] 0.715 0.724 0.678"
      ]
     },
     "metadata": {},
     "output_type": "display_data"
    }
   ],
   "source": [
    "s1 = summary(lm(BODYFAT ~ ABDOMEN + WRIST, data = data_clean))\n",
    "s2 = summary(lm(BODYFAT ~ ABDOMEN + WEIGHT, data = data_clean))\n",
    "s3 = summary(lm(BODYFAT ~ ABDOMEN , data = data_clean))\n",
    "round(c(s1$r.squared, s2$r.squared,s3$r.squared),3)"
   ]
  },
  {
   "cell_type": "code",
   "execution_count": 10,
   "metadata": {
    "scrolled": true
   },
   "outputs": [
    {
     "data": {
      "image/png": "[encoded data removed]",
      "text/plain": [
       "Plot with title \"\""
      ]
     },
     "metadata": {},
     "output_type": "display_data"
    }
   ],
   "source": [
    "layout(matrix(c(1,2,3), 1, 3, byrow = TRUE))\n",
    "#plot(data_clean$ABDOMEN,data_clean$BODYFAT,xlab=\"Abdomen\",ylab=\"Bodyfat\",main=\"final model\")\n",
    "#abline(-38,0.617,col=\"red\")\n",
    "#plot(data_clean$BODYFAT-(0.62*data_clean$ABDOMEN-38))\n",
    "final_model<-lm(BODYFAT ~ ABDOMEN + WRIST, data = data_clean)\n",
    "plot(final_model,which=1)\n",
    "plot(final_model,which=2)\n",
    "plot(final_model,which=4)"
   ]
  },
  {
   "cell_type": "code",
   "execution_count": null,
   "metadata": {
    "collapsed": true
   },
   "outputs": [],
   "source": []
  },
  {
   "cell_type": "markdown",
   "metadata": {},
   "source": [
    "# Model interpretation and diagnostics "
   ]
  },
  {
   "cell_type": "markdown",
   "metadata": {},
   "source": [
    "## Laymen's interpretation: "
   ]
  },
  {
   "cell_type": "markdown",
   "metadata": {},
   "source": [
    "Male Bodyfat percentage can be calculated as 0.73 abdomen(cm) minus 2.03 wrist(cm) and then substract 11.2.  \n",
    "*Example: A male who has abdomen 80cm and wrist 18cm, his bodyfat percentage is around 10.66%.*"
   ]
  },
  {
   "cell_type": "markdown",
   "metadata": {},
   "source": [
    "## Diagnostics\n",
    "checking modeling assumptions with plots"
   ]
  },
  {
   "cell_type": "markdown",
   "metadata": {},
   "source": [
    "## Strengths and weakness "
   ]
  },
  {
   "cell_type": "markdown",
   "metadata": {},
   "source": [
    "Advantages of Our Model  \n",
    "1. Our final model is simple and straightforward. The variables included for prediction is easy to get.  \n",
    "2. The model is robust.  \n",
    "3. The model is accurate as the adjusted R-squared is greater than 0.6.  "
   ]
  },
  {
   "cell_type": "markdown",
   "metadata": {},
   "source": [
    "Weaknesses:   \n",
    "1. We only consider two variables and ignored the interaction between these variables.                            \n",
    "2. Our data sample only contains 252 observations, if the weight is too hig or too low, the prediction may not be so accurate."
   ]
  },
  {
   "cell_type": "markdown",
   "metadata": {},
   "source": [
    "# Conclusion"
   ]
  },
  {
   "cell_type": "markdown",
   "metadata": {},
   "source": [
    "# Contribution: "
   ]
  },
  {
   "cell_type": "markdown",
   "metadata": {},
   "source": [
    "GUANQI LU: Data cleaning and model building,jupyter notebook summary.  \n",
    "QIAOCHU YU: Slides and plots using ggplot,jupyter notebook summary.  \n",
    "HAOXIANG WEI:  Data analyzing and jupyter notebook summary.  \n",
    "YI-HSUAN TSAI：Shiny App building and jupyter notebook summary."
   ]
  }
 ],
 "metadata": {
  "kernelspec": {
   "display_name": "R",
   "language": "R",
   "name": "ir"
  },
  "language_info": {
   "codemirror_mode": "r",
   "file_extension": ".r",
   "mimetype": "text/x-r-source",
   "name": "R",
   "pygments_lexer": "r",
   "version": "3.6.1"
  }
 },
 "nbformat": 4,
 "nbformat_minor": 2
}
